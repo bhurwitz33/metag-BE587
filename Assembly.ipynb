{
 "cells": [
  {
   "cell_type": "code",
   "execution_count": 1,
   "metadata": {},
   "outputs": [],
   "source": [
    "# important variables :\n",
    "curr_dir=\"PATH_TO_CURRENT_DIRECTORY\"\n",
    "bin_dir=\"PATH_TO_ENVS_BIN\""
   ]
  },
  {
   "cell_type": "markdown",
   "metadata": {},
   "source": [
    "# About the dataset: \n",
    "\n",
    "The Human microbiome project is a large-scale metagenomic project aiming to describe the microbial diversity associated to the human body. This project collected almost 5,000 samples from 300 healthy individuals, allowing an extensive description of the intra and inter-individual variability of the human microbiome.\n",
    "\n",
    "For this project, the flora from several body sites was investigated: \n",
    "* the oral cavity and oropharynx (saliva; buccal mucosa (cheek), keratinized gingiva (gums), palate, tonsils, throat and tongue soft tissues, and supra- and subgingival dental plaque (tooth biofilm above and below the gum))\n",
    "* the skin (retroauricular creases (behind each ear) and the two antecubital fossae (inner elbows), and one specimen for the anterior nares (nostrils))\n",
    "* the stool\n",
    "* the vagina (vaginal introitus, midpoint and posterior fornix)\n",
    "\n",
    "**For this assignment, we will use 3 stool samples from 1 healthy female individual sampled at 3 different visits.**\n"
   ]
  },
  {
   "cell_type": "markdown",
   "metadata": {},
   "source": [
    "# Exercise 1: Assembly, mapping and assembly metrics"
   ]
  },
  {
   "cell_type": "markdown",
   "metadata": {},
   "source": [
    "For this exercise, we’ll use the files **ex1_pair1.fastq** and **ex2_pair2.fastq** in the ex1_data folder. \n",
    "\n",
    "As you know, assembly is a memory-intensive computational task. To make sure that the exercise can be performed on your machine, the provided example is a lightweight artificial metagenome composed of 100,000 illumina reads from 5 organisms.\n",
    "\n",
    "These illumina fastq files (**ex1_pair1.fastq and ex1_pair2.fastq**) have been QCed and trimmed, and singletons (reads without a paired counterpart) have been filtered."
   ]
  },
  {
   "cell_type": "markdown",
   "metadata": {},
   "source": [
    "## Q1: Assemble your small metagenome using Megahit. \n",
    "\n",
    "The usage for this tool is the following:\n",
    "\n",
    "***megahit -1 [pair1.fastq] -2 [pair2.fastq] -o [output_directory]***\n",
    "\n",
    "for macOS users: megahit may give you back an error saying that it cannot estimate the memory. Try fix the issue by adding the parameter -m 9e9 to the command. \n",
    "The tool will create a folder using the name you provided, inside, the final output will be called final.contigs.fa\n"
   ]
  },
  {
   "cell_type": "code",
   "execution_count": 1,
   "metadata": {},
   "outputs": [],
   "source": [
    "#here run your code !"
   ]
  },
  {
   "cell_type": "markdown",
   "metadata": {},
   "source": [
    "## Q2: Let’s look at your assembly. \n",
    "\n",
    "In a new cell, print the number of contigs that you have created. You can use the method that you like the most. \n",
    "\n",
    "(hint : you can also use IPython grep command to calculate the number of “>” in your file)."
   ]
  },
  {
   "cell_type": "code",
   "execution_count": 2,
   "metadata": {},
   "outputs": [],
   "source": [
    "# here your code !"
   ]
  },
  {
   "cell_type": "markdown",
   "metadata": {},
   "source": [
    "## Q3: Now, let’s calculate contig coverage and extract unassembled reads.\n",
    "\n",
    "To do so, we’ll use bowtie2 to map the reads back to the contigs. The usage of the tool takes two steps.  You first need to create a database of your contigs :\n",
    "\n",
    "***bowtie2-build [contigs.fa] [database_name]***\n",
    "\n",
    "then run the mapping command:\n",
    "***bowtie2 -x [database_name] -1 [pair1.fastq] -2 [pair2.fastq] -S bowtie.sam***\n"
   ]
  },
  {
   "cell_type": "code",
   "execution_count": 5,
   "metadata": {},
   "outputs": [],
   "source": [
    "# here your code to run bowtie2 database creation!"
   ]
  },
  {
   "cell_type": "code",
   "execution_count": null,
   "metadata": {},
   "outputs": [],
   "source": [
    "# here your code to run bowtie2 mapping !"
   ]
  },
  {
   "cell_type": "markdown",
   "metadata": {},
   "source": [
    "This will produce a **bowtie.sam** file. A **.sam** file is a standard alignment map file, composed of a header section and an alignement section. More information on .sam file can be found on our favorite web-ressource : [Wikipedia](https://en.wikipedia.org/wiki/SAM_(file_format)).\n",
    "\n",
    "Additionally, the tool will print out a summary of the alignment, where information about the number of read mapped to the contigs can be found. Look carefully at this output and find the % of aligned reads."
   ]
  },
  {
   "cell_type": "code",
   "execution_count": 4,
   "metadata": {},
   "outputs": [],
   "source": [
    "# here report the % of aligned reads."
   ]
  },
  {
   "cell_type": "code",
   "execution_count": 6,
   "metadata": {},
   "outputs": [],
   "source": [
    "# here add a comment. Is it a good alignment? What could be improved?"
   ]
  },
  {
   "cell_type": "markdown",
   "metadata": {},
   "source": [
    "Most downstream tools may not use a **.sam** file but rather a **.bam**. The BAM file format is the binary representation of the Sequence Alignment/Map (SAM). It will store exactly the same data but in a compressed format.\n",
    "\n",
    "To obtain a **.bam** from a **.sam** file, we can use samtools view command: \n",
    "\n",
    "***samtools view -F 4 -bS [your sam file] > aln.bam***"
   ]
  },
  {
   "cell_type": "code",
   "execution_count": 11,
   "metadata": {},
   "outputs": [],
   "source": [
    "# here run the command to convert the sam file into bam."
   ]
  },
  {
   "cell_type": "markdown",
   "metadata": {},
   "source": [
    "The next step is to use the sam file to produce a coverage file (**cov.txt**). To do so, you’ll need to use the command:\n",
    "\n",
    "***pileup.sh in=[your_sam_file] out=cov.txt***"
   ]
  },
  {
   "cell_type": "code",
   "execution_count": 7,
   "metadata": {},
   "outputs": [],
   "source": [
    "# here run pileup to get the cov.txt file"
   ]
  },
  {
   "cell_type": "markdown",
   "metadata": {},
   "source": [
    "This cov.txt file is a tab-delimited format file that you can open using excel or a notepad. "
   ]
  },
  {
   "cell_type": "code",
   "execution_count": 9,
   "metadata": {},
   "outputs": [],
   "source": [
    "# here briefly describe (1-2 sentences) what information did you find in the cov.txt file?"
   ]
  },
  {
   "cell_type": "markdown",
   "metadata": {},
   "source": [
    "Once you evaluated the quality of your assembly, you may want to extract any reads that were not assembled for further investigation. To do so, we can use samtools view command.\n",
    "\n",
    "***samtools view -u -f4 [your sam file] | samtools bam2fq -s unmapped.se.fq - > unmapped.pe.fq***\n",
    "\n",
    "This command will extract unmapped pairs of reads into the **unmapped.pe.fq** file and unmapped singleton in the **unmapped.se.fq**.\n"
   ]
  },
  {
   "cell_type": "code",
   "execution_count": 10,
   "metadata": {},
   "outputs": [],
   "source": [
    "# here run samtools view to extract unmaped reads"
   ]
  },
  {
   "cell_type": "markdown",
   "metadata": {},
   "source": [
    "# Exercise 2: Binning contigs using metabat2 and checkM\n",
    "\n",
    "Raw reads from the 3 stool samples from 1 healthy female described above were QC’d and trimmed before being co-assembled using megahit. The output of this co-assembly is available to you as **contigs.fa** in the **ex2_data** folder."
   ]
  },
  {
   "cell_type": "code",
   "execution_count": 12,
   "metadata": {},
   "outputs": [],
   "source": [
    "# here, briefly (1-2 sentences)describe the difference between a co-assembly and a regular assembly. \n",
    "# Why do you think a co-assembly is valuable in our example?"
   ]
  },
  {
   "cell_type": "markdown",
   "metadata": {},
   "source": [
    "After assembly, the reads from the three samples where mapped and bam files generated. These bam files were used to bin the contigs using a tool called Metabat2. The goal here is to generate bins corresponding to the different organisms. You can see the bins in the **bins** folder in the **ex2_data** folder."
   ]
  },
  {
   "cell_type": "code",
   "execution_count": 13,
   "metadata": {},
   "outputs": [],
   "source": [
    "# Using bash commands only, print the number of bins generated by metabat2 (in the folder ex2_bins)"
   ]
  },
  {
   "cell_type": "markdown",
   "metadata": {},
   "source": [
    "In order to explore the bins created by Metabat2, we can use checkM, a tool aiming to help to assess the quality of bins and genomes recovered from metagenomes. Because checkM doesn’t run on Python 3, but only on python 2 (and therefore would not run on your current environment), we’ll provide you the tool’s output when necessary.\n",
    "\n",
    "First, we run the “checkm unique” command. This command checks each bin and ensures no sequences has been assigned to bins. For most automated binning methods, the assignment of a sequence to multiple putative genomes would indicate a serious binning error. \n"
   ]
  },
  {
   "cell_type": "markdown",
   "metadata": {},
   "source": [
    "![alt text](data/img/checkM.png \"Title\")"
   ]
  },
  {
   "cell_type": "code",
   "execution_count": 1,
   "metadata": {},
   "outputs": [],
   "source": [
    "# Look at the github repo for checkM:  https://github.com/Ecogenomics/CheckM.\n",
    "# Here describe briefly (1-2 sentence) what workflow you would use to assess the quality of the bins as genomes."
   ]
  }
 ],
 "metadata": {
  "kernelspec": {
   "display_name": "Python 3",
   "language": "python",
   "name": "python3"
  },
  "language_info": {
   "codemirror_mode": {
    "name": "ipython",
    "version": 3
   },
   "file_extension": ".py",
   "mimetype": "text/x-python",
   "name": "python",
   "nbconvert_exporter": "python",
   "pygments_lexer": "ipython3",
   "version": "3.7.3"
  }
 },
 "nbformat": 4,
 "nbformat_minor": 2
}
